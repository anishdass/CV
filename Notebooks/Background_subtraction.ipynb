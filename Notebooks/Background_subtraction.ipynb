{
 "cells": [
  {
   "cell_type": "code",
   "execution_count": 2,
   "metadata": {},
   "outputs": [],
   "source": [
    "import cv2"
   ]
  },
  {
   "cell_type": "code",
   "execution_count": 12,
   "metadata": {},
   "outputs": [],
   "source": [
    "cap = cv2.VideoCapture('C:\\\\Users\\\\80SM01YGIH\\\\Anish\\\\CV101\\\\vtest.avi')\n",
    "\n",
    "fgbg = cv2.createBackgroundSubtractorMOG2(detectShadows = False)\n",
    "\n",
    "fgbg2 = cv2.createBackgroundSubtractorKNN(detectShadows = False)\n",
    "\n",
    "while(cap.isOpened()):\n",
    "    _, img = cap.read()\n",
    "    if img is None:\n",
    "        break\n",
    "    \n",
    "    fgmask = fgbg.apply(img)\n",
    "    \n",
    "    fgmask2 = fgbg2.apply(img)\n",
    "    \n",
    "    cv2.imshow('Frame', img)\n",
    "    cv2.imshow('FG MASK', fgmask)\n",
    "    cv2.imshow('FG MASK 2', fgmask2)\n",
    "    \n",
    "    keyboard = cv2.waitKey(30)\n",
    "    \n",
    "    if keyboard == 'q' or keyboard == 27:\n",
    "        break\n",
    "        \n",
    "cap.release()\n",
    "cv2.destroyAllWindows()"
   ]
  },
  {
   "cell_type": "code",
   "execution_count": null,
   "metadata": {},
   "outputs": [],
   "source": []
  }
 ],
 "metadata": {
  "kernelspec": {
   "display_name": "Python 3",
   "language": "python",
   "name": "python3"
  },
  "language_info": {
   "codemirror_mode": {
    "name": "ipython",
    "version": 3
   },
   "file_extension": ".py",
   "mimetype": "text/x-python",
   "name": "python",
   "nbconvert_exporter": "python",
   "pygments_lexer": "ipython3",
   "version": "3.6.5"
  }
 },
 "nbformat": 4,
 "nbformat_minor": 2
}

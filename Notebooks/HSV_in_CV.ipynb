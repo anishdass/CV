{
 "cells": [
  {
   "cell_type": "code",
   "execution_count": 1,
   "metadata": {},
   "outputs": [],
   "source": [
    "import numpy as np\n",
    "import cv2"
   ]
  },
  {
   "cell_type": "code",
   "execution_count": 9,
   "metadata": {},
   "outputs": [],
   "source": [
    "def nothing(x):\n",
    "    pass\n",
    "\n",
    "cv2.namedWindow('Tracking')\n",
    "\n",
    "cv2.createTrackbar('LH', 'Tracking', 0, 255, nothing)\n",
    "cv2.createTrackbar('LS', 'Tracking', 0, 255, nothing)\n",
    "cv2.createTrackbar('LV', 'Tracking', 0, 255, nothing)\n",
    "cv2.createTrackbar('UH', 'Tracking', 255, 255, nothing)\n",
    "cv2.createTrackbar('US', 'Tracking', 255, 255, nothing)\n",
    "cv2.createTrackbar('UV', 'Tracking', 255, 255, nothing)\n",
    "\n",
    "while(1):\n",
    "    \n",
    "    frame = cv2.imread('C:\\\\Users\\\\80SM01YGIH\\\\Anish\\\\CV101\\\\smarties.png')\n",
    "    \n",
    "    hsv = cv2.cvtColor(frame, cv2.COLOR_BGR2HSV)\n",
    "    \n",
    "    l_h = cv2.getTrackbarPos('LH', 'Tracking')\n",
    "    l_s= cv2.getTrackbarPos('LS', 'Tracking')\n",
    "    l_v= cv2.getTrackbarPos('LV', 'Tracking')\n",
    "    \n",
    "    u_h = cv2.getTrackbarPos('UH', 'Tracking')\n",
    "    u_s= cv2.getTrackbarPos('US', 'Tracking')\n",
    "    u_v= cv2.getTrackbarPos('UV', 'Tracking')\n",
    "    \n",
    "    l_b = np.array([l_h, l_s, l_v])\n",
    "    u_b = np.array([u_h, u_s, u_v])\n",
    "    \n",
    "    mask = cv2.inRange(hsv, l_b, u_b)\n",
    "    \n",
    "    res = cv2.bitwise_and(frame, frame, mask = mask)\n",
    "    \n",
    "    cv2.imshow('frame', frame)\n",
    "    cv2.imshow('mask', mask)\n",
    "    cv2.imshow('res', res)\n",
    "    \n",
    "    \n",
    "    key = cv2.waitKey(1) & 0xFF\n",
    "    if key == 27:\n",
    "        break\n",
    "cv2.destroyAllWindows()"
   ]
  },
  {
   "cell_type": "code",
   "execution_count": null,
   "metadata": {},
   "outputs": [],
   "source": []
  }
 ],
 "metadata": {
  "kernelspec": {
   "display_name": "Python 3",
   "language": "python",
   "name": "python3"
  },
  "language_info": {
   "codemirror_mode": {
    "name": "ipython",
    "version": 3
   },
   "file_extension": ".py",
   "mimetype": "text/x-python",
   "name": "python",
   "nbconvert_exporter": "python",
   "pygments_lexer": "ipython3",
   "version": "3.6.5"
  }
 },
 "nbformat": 4,
 "nbformat_minor": 2
}

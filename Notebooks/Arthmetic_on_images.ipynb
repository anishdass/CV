{
 "cells": [
  {
   "cell_type": "code",
   "execution_count": 2,
   "metadata": {},
   "outputs": [],
   "source": [
    "import cv2\n",
    "import numpy as np"
   ]
  },
  {
   "cell_type": "code",
   "execution_count": 21,
   "metadata": {},
   "outputs": [
    {
     "name": "stdout",
     "output_type": "stream",
     "text": [
      "(342, 548, 3)\n",
      "562248\n",
      "uint8\n",
      "(739, 600, 3)\n",
      "1330200\n",
      "uint8\n"
     ]
    }
   ],
   "source": [
    "def find_co_ordinates(event, x, y, flag, param):\n",
    "    if event == cv2.EVENT_LBUTTONDOWN:\n",
    "        print(x,', ',y)\n",
    "        \n",
    "\n",
    "img = cv2.imread('C:\\\\Users\\\\80SM01YGIH\\\\Anish\\\\CV101\\\\messi5 - Copy.jpg')\n",
    "img2 = cv2.imread('C:\\\\Users\\\\80SM01YGIH\\\\Anish\\\\CV101\\\\opencv-logo.png')\n",
    "\n",
    "print(img.shape)\n",
    "print(img.size)\n",
    "print(img.dtype)\n",
    "print(img2.shape)\n",
    "print(img2.size)\n",
    "print(img2.dtype)\n",
    "\n",
    "b, g, r= cv2.split(img)\n",
    "img = cv2.merge((b, g, r))\n",
    "\n",
    "#cv2.imshow('Image', img)\n",
    "\n",
    "#cv2.setMouseCallback('Image', find_co_ordinates)\n",
    "\n",
    "#ball = img[280:340, 330:390]\n",
    "\n",
    "#img[273:333, 100:160] = ball\n",
    "\n",
    "img = cv2.resize(img, (512, 512))\n",
    "img2 = cv2.resize(img2, (512, 512))\n",
    "\n",
    "merged_img = cv2.addWeighted(img, .9, img2, .1, 5)\n",
    "\n",
    "cv2.imshow('Image', merged_img)\n",
    "\n",
    "cv2.waitKey(0)\n",
    "cv2.destroyAllWindows()"
   ]
  },
  {
   "cell_type": "code",
   "execution_count": 22,
   "metadata": {},
   "outputs": [],
   "source": []
  },
  {
   "cell_type": "code",
   "execution_count": null,
   "metadata": {},
   "outputs": [],
   "source": []
  }
 ],
 "metadata": {
  "kernelspec": {
   "display_name": "Python 3",
   "language": "python",
   "name": "python3"
  },
  "language_info": {
   "codemirror_mode": {
    "name": "ipython",
    "version": 3
   },
   "file_extension": ".py",
   "mimetype": "text/x-python",
   "name": "python",
   "nbconvert_exporter": "python",
   "pygments_lexer": "ipython3",
   "version": "3.6.5"
  }
 },
 "nbformat": 4,
 "nbformat_minor": 2
}

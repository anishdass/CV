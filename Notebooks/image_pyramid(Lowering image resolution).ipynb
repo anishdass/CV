{
 "cells": [
  {
   "cell_type": "code",
   "execution_count": 1,
   "metadata": {},
   "outputs": [],
   "source": [
    "#Gaussain Pyramid, Laplacian pyramid\n",
    "\n",
    "import cv2\n",
    "\n",
    "img = cv2.imread('C:\\\\Users\\\\80SM01YGIH\\\\Anish\\\\CV101\\\\lena.jpg', -1)\n",
    "\n",
    "lr1 = cv2.pyrDown(img)\n",
    "lr2 = cv2.pyrDown(lr1)\n",
    "\n",
    "hr1 = cv2.pyrUp(lr2)\n",
    "\n",
    "cv2.imshow('Original image', img)\n",
    "cv2.imshow('pyrDown1 image', lr1)\n",
    "cv2.imshow('pyrDown2 image', lr2)\n",
    "cv2.imshow('pyrUp1 image', hr1)\n",
    "cv2.waitKey(0)\n",
    "cv2.destroyAllWindows()"
   ]
  },
  {
   "cell_type": "code",
   "execution_count": 33,
   "metadata": {},
   "outputs": [],
   "source": [
    "#For Gaussian pyramid\n",
    "\n",
    "layer = img.copy()\n",
    "gp = [layer]\n",
    "\n",
    "for i in range(6):\n",
    "    layer = cv2.pyrDown(layer)\n",
    "    gp.append(layer)\n",
    "    cv2.imshow(str(i), layer)\n",
    "    \n",
    "cv2.waitKey(0)\n",
    "cv2.destroyAllWindows()"
   ]
  },
  {
   "cell_type": "code",
   "execution_count": 32,
   "metadata": {},
   "outputs": [],
   "source": [
    "#For laplacian pyramid\n",
    "\n",
    "layer = gp[5]\n",
    "cv2.imshow('Upper level Gaussian pyramid', layer)\n",
    "lp = [layer]\n",
    "\n",
    "for i in range(5, 0, -1):\n",
    "    gaussian_extended = cv2.pyrUp(gp[i])\n",
    "    laplacian = cv2.subtract(gp[i-1], gaussian_extended)\n",
    "    cv2.imshow(str(i), laplacian)\n",
    "\n",
    "cv2.waitKey(0)\n",
    "cv2.destroyAllWindows()"
   ]
  },
  {
   "cell_type": "code",
   "execution_count": null,
   "metadata": {},
   "outputs": [],
   "source": []
  }
 ],
 "metadata": {
  "kernelspec": {
   "display_name": "Python 3",
   "language": "python",
   "name": "python3"
  },
  "language_info": {
   "codemirror_mode": {
    "name": "ipython",
    "version": 3
   },
   "file_extension": ".py",
   "mimetype": "text/x-python",
   "name": "python",
   "nbconvert_exporter": "python",
   "pygments_lexer": "ipython3",
   "version": "3.6.5"
  }
 },
 "nbformat": 4,
 "nbformat_minor": 2
}

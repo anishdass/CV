{
 "cells": [
  {
   "cell_type": "code",
   "execution_count": 2,
   "metadata": {},
   "outputs": [],
   "source": [
    "import cv2\n",
    "import numpy as np\n",
    "import matplotlib.pyplot as plt\n",
    "%matplotlib inline"
   ]
  },
  {
   "cell_type": "code",
   "execution_count": 3,
   "metadata": {},
   "outputs": [
    {
     "name": "stdout",
     "output_type": "stream",
     "text": [
      "(512, 512, 3)\n",
      "(512, 512, 3)\n"
     ]
    }
   ],
   "source": [
    "apple = cv2.imread('C:\\\\Users\\\\80SM01YGIH\\\\Anish\\\\CV101\\\\apple.jpg', -1)\n",
    "orange = cv2.imread('C:\\\\Users\\\\80SM01YGIH\\\\Anish\\\\CV101\\\\orange.jpg', -1)\n",
    "\n",
    "print(apple.shape)\n",
    "print(orange.shape)\n",
    "\n",
    "#Blend rhs of orange to lhs of apple way1\n",
    "apple_orange = np.hstack((apple[:, :256], orange[:, 256:]))\n",
    "\n",
    "cv2.imshow('Apple', apple)\n",
    "cv2.imshow('Orange', orange)\n",
    "cv2.imshow('Apple_Orange, way 1', apple_orange)\n",
    "\n",
    "cv2.waitKey(0)\n",
    "cv2.destroyAllWindows()"
   ]
  },
  {
   "cell_type": "code",
   "execution_count": 8,
   "metadata": {},
   "outputs": [],
   "source": [
    "#Blending the image using image pyramids\n",
    "#Gaussian\n",
    "apple_copy = apple.copy()\n",
    "orange_copy = orange.copy()\n",
    "\n",
    "gp_apple = [apple_copy]\n",
    "gp_orange = [orange_copy]\n",
    "\n",
    "for i in range(6):\n",
    "    apple_copy = cv2.pyrDown(apple_copy)\n",
    "    gp_apple.append(apple_copy)\n",
    "    cv2.imshow(str(i), apple_copy)\n",
    "\n",
    "cv2.waitKey(0)\n",
    "cv2.destroyAllWindows()"
   ]
  },
  {
   "cell_type": "code",
   "execution_count": null,
   "metadata": {},
   "outputs": [],
   "source": [
    "for i in range(6):\n",
    "    orange_copy = cv2.pyrDown(orange_copy)\n",
    "    gp_orange.append(orange_copy)\n",
    "    cv2.imshow(str(i+6), orange_copy)\n",
    "\n",
    "cv2.waitKey(0)\n",
    "cv2.destroyAllWindows()"
   ]
  },
  {
   "cell_type": "code",
   "execution_count": 12,
   "metadata": {},
   "outputs": [],
   "source": [
    "#Laplacian for apple\n",
    "apple_copy = gp_apple[5]\n",
    "lp_apple = [apple_copy]\n",
    "\n",
    "for i in range(5, 0, -1):\n",
    "    gaussian_extended_apple = cv2.pyrUp(gp_apple[i])\n",
    "    laplacian_apple = cv2.subtract(gp_apple[i-1], gaussian_extended_apple)\n",
    "    lp_apple.append(laplacian_apple)\n",
    "\n",
    "#laplacian for orange\n",
    "orange_copy = gp_orange[5]\n",
    "lp_orange = [orange_copy]\n",
    "\n",
    "for i in range(5, 0, -1):\n",
    "    gaussian_extended_orange = cv2.pyrUp(gp_orange[i])\n",
    "    laplacian_orange = cv2.subtract(gp_orange[i-1], gaussian_extended_orange)\n",
    "    lp_orange.append(laplacian_orange)\n",
    "    \n",
    "apple_orange_pyramid= []\n",
    "n = 0\n",
    "for apple_lap, orange_lap in zip(lp_apple, lp_orange):\n",
    "    n += 1\n",
    "    cols, rows, ch = apple_lap.shape\n",
    "    laplacian = np.hstack((apple_lap[: , :int(cols/2)], orange_lap[ : ,int(cols/2):]))\n",
    "    apple_orange_pyramid.append(laplacian)\n",
    "\n",
    "#Reconstruction\n",
    "apple_orange_reconstruct = apple_orange_pyramid[0]\n",
    "for i in range(1, 6):\n",
    "    apple_orange_reconstruct = cv2.pyrUp(apple_orange_reconstruct)\n",
    "    apple_orange_reconstruct = cv2.add(apple_orange_pyramid[i], apple_orange_reconstruct)\n",
    "    \n",
    "cv2.imshow('apple', apple)\n",
    "cv2.imshow('orange', orange)\n",
    "cv2.imshow('apple_orange', apple_orange)\n",
    "cv2.imshow('apple_orange_reconstruct', apple_orange_reconstruct)\n",
    "\n",
    "cv2.waitKey(0)\n",
    "cv2.destroyAllWindows()"
   ]
  },
  {
   "cell_type": "code",
   "execution_count": null,
   "metadata": {},
   "outputs": [],
   "source": []
  }
 ],
 "metadata": {
  "kernelspec": {
   "display_name": "Python 3",
   "language": "python",
   "name": "python3"
  },
  "language_info": {
   "codemirror_mode": {
    "name": "ipython",
    "version": 3
   },
   "file_extension": ".py",
   "mimetype": "text/x-python",
   "name": "python",
   "nbconvert_exporter": "python",
   "pygments_lexer": "ipython3",
   "version": "3.6.5"
  }
 },
 "nbformat": 4,
 "nbformat_minor": 2
}

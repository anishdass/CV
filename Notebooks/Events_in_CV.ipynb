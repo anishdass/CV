{
 "cells": [
  {
   "cell_type": "code",
   "execution_count": 1,
   "metadata": {},
   "outputs": [],
   "source": [
    "import cv2\n",
    "import numpy as np"
   ]
  },
  {
   "cell_type": "code",
   "execution_count": 2,
   "metadata": {},
   "outputs": [
    {
     "name": "stdout",
     "output_type": "stream",
     "text": [
      "['EVENT_FLAG_ALTKEY', 'EVENT_FLAG_CTRLKEY', 'EVENT_FLAG_LBUTTON', 'EVENT_FLAG_MBUTTON', 'EVENT_FLAG_RBUTTON', 'EVENT_FLAG_SHIFTKEY', 'EVENT_LBUTTONDBLCLK', 'EVENT_LBUTTONDOWN', 'EVENT_LBUTTONUP', 'EVENT_MBUTTONDBLCLK', 'EVENT_MBUTTONDOWN', 'EVENT_MBUTTONUP', 'EVENT_MOUSEHWHEEL', 'EVENT_MOUSEMOVE', 'EVENT_MOUSEWHEEL', 'EVENT_RBUTTONDBLCLK', 'EVENT_RBUTTONDOWN', 'EVENT_RBUTTONUP']\n"
     ]
    }
   ],
   "source": [
    "events = [i for i in dir(cv2) if 'EVENT' in i]\n",
    "print(events)"
   ]
  },
  {
   "cell_type": "code",
   "execution_count": 9,
   "metadata": {},
   "outputs": [
    {
     "name": "stdout",
     "output_type": "stream",
     "text": [
      "278 ,  209\n",
      "278 ,  209\n",
      "340 ,  138\n",
      "382 ,  104\n",
      "492 ,  154\n"
     ]
    }
   ],
   "source": [
    "def click_event(event, x, y, flag, param):\n",
    "    if event == cv2.EVENT_LBUTTONDOWN:\n",
    "        print(x,', ',y)\n",
    "        font = cv2.FONT_HERSHEY_SIMPLEX\n",
    "        strXY = str(x)+', '+str(y)\n",
    "        cv2.putText(img, strXY, (x, y), font, .5, (255, 255, 0), 2)\n",
    "        cv2.imshow('image', img)\n",
    "    if event == cv2.EVENT_RBUTTONDOWN:\n",
    "        blue = img[x, y, 0]\n",
    "        green = img[x, y, 1]\n",
    "        red = img[x, y, 2]\n",
    "        font = cv2.FONT_HERSHEY_SIMPLEX\n",
    "        strBGR = str(blue)+', '+str(green)+', '+str(red)\n",
    "        cv2.putText(img, strBGR, (x,y), font, .5, (0, 255, 255), 2)\n",
    "        cv2.imshow('image', img)\n",
    "\n",
    "#img = np.zeros((512, 512, 3), np.uint8)\n",
    "img = cv2.imread('C:\\\\Users\\\\80SM01YGIH\\\\Anish\\\\CV101\\\\messi5 - Copy.jpg')\n",
    "cv2.imshow('image', img)\n",
    "\n",
    "cv2.setMouseCallback('image', click_event)\n",
    "\n",
    "cv2.waitKey(0)\n",
    "cv2.destroyAllWindows()"
   ]
  },
  {
   "cell_type": "code",
   "execution_count": 40,
   "metadata": {},
   "outputs": [],
   "source": [
    "def click_event_for_circle(event, x, y, flag, param):\n",
    "    if event == cv2.EVENT_LBUTTONDOWN:\n",
    "        cv2.circle(img, (x, y), 3, (0, 0, 255), -1)\n",
    "        points.append((x, y))\n",
    "        if len(points) >= 2:\n",
    "            cv2.line(img, points[-2], points[-1], (255, 0, 0), 3)\n",
    "        cv2.imshow('image', img)\n",
    "        \n",
    "img = cv2.imread('C:\\\\Users\\\\80SM01YGIH\\\\Anish\\\\CV101\\\\messi5 - Copy.jpg')\n",
    "cv2.imshow('image', img)\n",
    "points = []\n",
    "\n",
    "cv2.setMouseCallback('image', click_event_for_circle)\n",
    "\n",
    "cv2.waitKey(0)\n",
    "cv2.destroyAllWindows()"
   ]
  },
  {
   "cell_type": "code",
   "execution_count": 8,
   "metadata": {},
   "outputs": [
    {
     "name": "stdout",
     "output_type": "stream",
     "text": [
      "[[[ 42 112  71]\n",
      "  [ 42 112  71]\n",
      "  [ 42 112  71]\n",
      "  ...\n",
      "  [ 42 112  71]\n",
      "  [ 42 112  71]\n",
      "  [ 42 112  71]]\n",
      "\n",
      " [[ 42 112  71]\n",
      "  [ 42 112  71]\n",
      "  [ 42 112  71]\n",
      "  ...\n",
      "  [ 42 112  71]\n",
      "  [ 42 112  71]\n",
      "  [ 42 112  71]]\n",
      "\n",
      " [[ 42 112  71]\n",
      "  [ 42 112  71]\n",
      "  [ 42 112  71]\n",
      "  ...\n",
      "  [ 42 112  71]\n",
      "  [ 42 112  71]\n",
      "  [ 42 112  71]]\n",
      "\n",
      " ...\n",
      "\n",
      " [[ 42 112  71]\n",
      "  [ 42 112  71]\n",
      "  [ 42 112  71]\n",
      "  ...\n",
      "  [ 42 112  71]\n",
      "  [ 42 112  71]\n",
      "  [ 42 112  71]]\n",
      "\n",
      " [[ 42 112  71]\n",
      "  [ 42 112  71]\n",
      "  [ 42 112  71]\n",
      "  ...\n",
      "  [ 42 112  71]\n",
      "  [ 42 112  71]\n",
      "  [ 42 112  71]]\n",
      "\n",
      " [[ 42 112  71]\n",
      "  [ 42 112  71]\n",
      "  [ 42 112  71]\n",
      "  ...\n",
      "  [ 42 112  71]\n",
      "  [ 42 112  71]\n",
      "  [ 42 112  71]]]\n"
     ]
    }
   ],
   "source": [
    "def click_event_for_color(event, x, y, flag, param):\n",
    "    if event == cv2.EVENT_LBUTTONDOWN:\n",
    "        blue = img[x, y, 0]\n",
    "        green = img[x, y, 1]\n",
    "        red = img[x, y, 2]\n",
    "        cv2.circle(img, (x, y), 3, (0, 0, 255), -1)\n",
    "        mycolorImage = np.zeros((512, 512, 3), np.uint8)\n",
    "        \n",
    "        mycolorImage[:] = [blue, green, red]\n",
    "        print(mycolorImage)\n",
    "        \n",
    "        cv2.imshow('colorimage', mycolorImage)\n",
    "        \n",
    "img = cv2.imread('C:\\\\Users\\\\80SM01YGIH\\\\Anish\\\\CV101\\\\messi5 - Copy.jpg')\n",
    "cv2.imshow('image', img)\n",
    "\n",
    "cv2.setMouseCallback('image', click_event_for_color)\n",
    "\n",
    "cv2.waitKey(0)\n",
    "cv2.destroyAllWindows()"
   ]
  },
  {
   "cell_type": "code",
   "execution_count": null,
   "metadata": {},
   "outputs": [],
   "source": []
  }
 ],
 "metadata": {
  "kernelspec": {
   "display_name": "Python 3",
   "language": "python",
   "name": "python3"
  },
  "language_info": {
   "codemirror_mode": {
    "name": "ipython",
    "version": 3
   },
   "file_extension": ".py",
   "mimetype": "text/x-python",
   "name": "python",
   "nbconvert_exporter": "python",
   "pygments_lexer": "ipython3",
   "version": "3.6.5"
  }
 },
 "nbformat": 4,
 "nbformat_minor": 2
}

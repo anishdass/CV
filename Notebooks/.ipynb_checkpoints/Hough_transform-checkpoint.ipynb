{
 "cells": [
  {
   "cell_type": "code",
   "execution_count": 3,
   "metadata": {},
   "outputs": [],
   "source": [
    "import cv2\n",
    "import numpy as np\n",
    "import matplotlib.pyplot as plt\n",
    "%matplotlib inline"
   ]
  },
  {
   "cell_type": "code",
   "execution_count": 10,
   "metadata": {},
   "outputs": [],
   "source": [
    "img = cv2.imread('C:\\\\Users\\\\80SM01YGIH\\\\Anish\\\\CV101\\\\road.jpg', -1)\n",
    "img2 = img.copy()\n",
    "gray = cv2.cvtColor(img, cv2.COLOR_BGR2GRAY)\n",
    "edges = cv2.Canny(gray, 50, 150, apertureSize = 3)\n",
    "cv2.imshow('Canny', edges)\n",
    "lines = cv2.HoughLinesP(edges, 1, np.pi/180, 100, minLineLength= 100, maxLineGap = 5)\n",
    "\n",
    "for line in lines:\n",
    "    x1, y1, x2, y2 = line[0]\n",
    "    cv2.line(img, (x1, y1), (x2, y2), (0, 255, 0), 2)\n",
    "\n",
    "#lines2 = cv2.HoughLines(edges, 1, np.pi/180, 200)\n",
    "\n",
    "#for line in lines2:\n",
    " #   rho, theta = line[0]\n",
    "  #  a = np.cos(theta)\n",
    "   # b = np.sin(theta)\n",
    "    #x0 = a * rho\n",
    "#    y0 = b * rho\n",
    " #   x1 = int(x0 + 1000 * (-b))\n",
    "  #  y1 = int(y0 + 1000 * (a))\n",
    "   # x2 = int(x0 - 1000 * (-b))\n",
    "    #y2 = int(y0 - 1000 * (a))\n",
    "    #cv2.line(img2, (x1, y1), (x2, y2), (0, 0, 255), 2)\n",
    "     \n",
    "\n",
    "cv2.imshow('img', img)\n",
    "cv2.imshow('img2', img2)\n",
    "k = cv2.waitKey(0)\n",
    "cv2.destroyAllWindows()"
   ]
  },
  {
   "cell_type": "code",
   "execution_count": null,
   "metadata": {},
   "outputs": [],
   "source": []
  }
 ],
 "metadata": {
  "kernelspec": {
   "display_name": "Python 3",
   "language": "python",
   "name": "python3"
  },
  "language_info": {
   "codemirror_mode": {
    "name": "ipython",
    "version": 3
   },
   "file_extension": ".py",
   "mimetype": "text/x-python",
   "name": "python",
   "nbconvert_exporter": "python",
   "pygments_lexer": "ipython3",
   "version": "3.6.5"
  }
 },
 "nbformat": 4,
 "nbformat_minor": 2
}

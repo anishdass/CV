{
 "cells": [
  {
   "cell_type": "code",
   "execution_count": 1,
   "metadata": {},
   "outputs": [],
   "source": [
    "import cv2\n",
    "import numpy as np"
   ]
  },
  {
   "cell_type": "code",
   "execution_count": 2,
   "metadata": {},
   "outputs": [],
   "source": [
    "img = cv2.imread('C:\\\\Users\\\\\\80SM01YGIH\\\\Anish\\\\CV101\\\\gradient.png', 0)\n",
    "_, th1 = cv2.threshold(img, 50, 255, cv2.THRESH_BINARY)\n",
    "_, th2 = cv2.threshold(img, 200, 255, cv2.THRESH_BINARY_INV)\n",
    "_, th3 = cv2.threshold(img, 50, 255, cv2.THRESH_TRUNC)\n",
    "_, th4 = cv2.threshold(img, 50, 255, cv2.THRESH_TOZERO)\n",
    "_, th5 = cv2.threshold(img, 50, 255, cv2.THRESH_TOZERO_INV)\n",
    "\n",
    "#img2 = cv2.imread('C:\\\\Users\\\\80SM01YGIH\\\\Anish\\\\CV101\\\\Messi5 - Copy.jpg')\n",
    "#_, th4 = cv2.threshold(img2, 50, 255, cv2.THRESH_BINARY)\n",
    "#_, th5 = cv2.threshold(img2, 200, 255, cv2.THRESH_BINARY_INV)\n",
    "#_, th6 = cv2.threshold(img2, 150, 255, cv2.THRESH_TRUNC)"
   ]
  },
  {
   "cell_type": "code",
   "execution_count": 3,
   "metadata": {},
   "outputs": [],
   "source": [
    "cv2.imshow('img', img)\n",
    "cv2.imshow('th1', th1)\n",
    "cv2.imshow('th2', th2)\n",
    "cv2.imshow('th3', th3)\n",
    "cv2.imshow('th4', th4)\n",
    "cv2.imshow('th5', th5)\n",
    "\n",
    "cv2.waitKey(0)\n",
    "cv2.destroyAllWindows()"
   ]
  },
  {
   "cell_type": "code",
   "execution_count": null,
   "metadata": {},
   "outputs": [],
   "source": []
  }
 ],
 "metadata": {
  "kernelspec": {
   "display_name": "Python 3",
   "language": "python",
   "name": "python3"
  },
  "language_info": {
   "codemirror_mode": {
    "name": "ipython",
    "version": 3
   },
   "file_extension": ".py",
   "mimetype": "text/x-python",
   "name": "python",
   "nbconvert_exporter": "python",
   "pygments_lexer": "ipython3",
   "version": "3.6.5"
  }
 },
 "nbformat": 4,
 "nbformat_minor": 2
}
